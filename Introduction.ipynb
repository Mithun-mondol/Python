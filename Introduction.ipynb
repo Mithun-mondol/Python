{
  "nbformat": 4,
  "nbformat_minor": 0,
  "metadata": {
    "colab": {
      "provenance": [],
      "toc_visible": true,
      "authorship_tag": "ABX9TyMtraIJ6vsKKaAwx5dKWuFk",
      "include_colab_link": true
    },
    "kernelspec": {
      "name": "python3",
      "display_name": "Python 3"
    },
    "language_info": {
      "name": "python"
    }
  },
  "cells": [
    {
      "cell_type": "markdown",
      "metadata": {
        "id": "view-in-github",
        "colab_type": "text"
      },
      "source": [
        "<a href=\"https://colab.research.google.com/github/Mithun-mondol/Python/blob/main/Introduction.ipynb\" target=\"_parent\"><img src=\"https://colab.research.google.com/assets/colab-badge.svg\" alt=\"Open In Colab\"/></a>"
      ]
    },
    {
      "cell_type": "code",
      "execution_count": null,
      "metadata": {
        "colab": {
          "base_uri": "https://localhost:8080/"
        },
        "id": "t_-UNpcAQ_ZU",
        "outputId": "d089ed52-d271-41fa-c6c3-32c485c7fc5c"
      },
      "outputs": [
        {
          "output_type": "stream",
          "name": "stdout",
          "text": [
            "Welcome to Python Coding\n"
          ]
        }
      ],
      "source": [
        "print('Welcome to Python Coding')"
      ]
    },
    {
      "cell_type": "code",
      "source": [
        "print('This is Mithun Mondol')"
      ],
      "metadata": {
        "colab": {
          "base_uri": "https://localhost:8080/"
        },
        "id": "72t0MINwiJ3i",
        "outputId": "913826bd-a88e-43a0-8766-2fd3afd40705"
      },
      "execution_count": null,
      "outputs": [
        {
          "output_type": "stream",
          "name": "stdout",
          "text": [
            "This is Mithun Mondol\n"
          ]
        }
      ]
    },
    {
      "cell_type": "markdown",
      "source": [
        "# **Chapter-01**"
      ],
      "metadata": {
        "id": "PK5YXNg8jrPQ"
      }
    },
    {
      "cell_type": "markdown",
      "source": [
        "## **1.0 Section-01**"
      ],
      "metadata": {
        "id": "iePIjjqDjzPy"
      }
    },
    {
      "cell_type": "markdown",
      "source": [
        "## **2.0 Section-01**"
      ],
      "metadata": {
        "id": "yaEc4eODQ0A5"
      }
    }
  ]
}