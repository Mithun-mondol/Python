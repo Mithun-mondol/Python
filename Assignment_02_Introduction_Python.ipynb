{
  "nbformat": 4,
  "nbformat_minor": 0,
  "metadata": {
    "colab": {
      "provenance": [],
      "authorship_tag": "ABX9TyPVDcJAQW9EDC1ARE+Qvy/7",
      "include_colab_link": true
    },
    "kernelspec": {
      "name": "python3",
      "display_name": "Python 3"
    },
    "language_info": {
      "name": "python"
    }
  },
  "cells": [
    {
      "cell_type": "markdown",
      "metadata": {
        "id": "view-in-github",
        "colab_type": "text"
      },
      "source": [
        "<a href=\"https://colab.research.google.com/github/Mithun-mondol/Python/blob/main/Assignment_02_Introduction_Python.ipynb\" target=\"_parent\"><img src=\"https://colab.research.google.com/assets/colab-badge.svg\" alt=\"Open In Colab\"/></a>"
      ]
    },
    {
      "cell_type": "markdown",
      "source": [
        "# **Assignment_Introduction_Python**"
      ],
      "metadata": {
        "id": "hZ76E6QFSOZY"
      }
    },
    {
      "cell_type": "markdown",
      "source": [
        "## **Assignment_2.1: Create variables for your name, age, and favorite color, then print them with descriptive labels.**"
      ],
      "metadata": {
        "id": "wKHtm8m6SkCw"
      }
    },
    {
      "cell_type": "code",
      "execution_count": null,
      "metadata": {
        "id": "ovEB6RhhAptX",
        "colab": {
          "base_uri": "https://localhost:8080/"
        },
        "outputId": "dc698939-c9d9-4d8a-db57-ed19a33be5f3"
      },
      "outputs": [
        {
          "output_type": "stream",
          "name": "stdout",
          "text": [
            "Name:  Mithun Mondol\n",
            "Age:  37\n",
            "Favorite Color:  Sky Blue\n"
          ]
        }
      ],
      "source": [
        "# Creating Variables\n",
        "name = 'Mithun Mondol'\n",
        "age = '37'\n",
        "favorite_color = 'Sky Blue'\n",
        "\n",
        "# Printing Variables with  descriptive labels\n",
        "print('Name: ', name)\n",
        "print('Age: ', age)\n",
        "print('Favorite Color: ', favorite_color)"
      ]
    },
    {
      "cell_type": "markdown",
      "source": [
        "## **Assignment_2.2: Create one variable of each type and use the type() function to verify its type.**"
      ],
      "metadata": {
        "id": "NPuG-2bGUUES"
      }
    },
    {
      "cell_type": "code",
      "source": [
        "# Creating Variables\n",
        "\n",
        "name = 'Mithun'\n",
        "age = 37\n",
        "price = 100.78\n",
        "equ = 3 + 4j\n",
        "is_valid = True\n",
        "is_number = None\n",
        "my_list = [2, 4, 8]\n",
        "my_tuple = (2, 4, 8)\n",
        "my_set = {2, 4, 8}\n",
        "my_dict = {'name': 'Mithun', 'age': 37, 'district': 'Jashore'}\n",
        "my_range = range(6)\n",
        "\n",
        "\n",
        "# Printing Types\n",
        "\n",
        "print(\"String Type: \", type(name))\n",
        "print('integer Type: ', type(age))\n",
        "print('Float Type: ', type(price))\n",
        "print('Complex Type: ', type(equ))\n",
        "print('Boolean Type: ', type(is_valid))\n",
        "print('None Type: ', type(is_number))\n",
        "print('List: ', type(my_list))\n",
        "print('Tuple: ', type(my_tuple))\n",
        "print('Set: ', type(my_set))\n",
        "print('Dictionary: ', type(my_dict))\n",
        "print('Range', type(my_range))"
      ],
      "metadata": {
        "colab": {
          "base_uri": "https://localhost:8080/"
        },
        "id": "DrDqF7itTpJM",
        "outputId": "eabb4995-88c1-4b60-8389-a0733e54e551"
      },
      "execution_count": null,
      "outputs": [
        {
          "output_type": "stream",
          "name": "stdout",
          "text": [
            "String Type:  <class 'str'>\n",
            "integer Type:  <class 'int'>\n",
            "Float Type:  <class 'float'>\n",
            "Complex Type:  <class 'complex'>\n",
            "Boolean Type:  <class 'bool'>\n",
            "None Type:  <class 'NoneType'>\n",
            "List:  <class 'list'>\n",
            "Tuple:  <class 'tuple'>\n",
            "Set:  <class 'set'>\n",
            "Dictionary:  <class 'dict'>\n",
            "Range <class 'range'>\n"
          ]
        }
      ]
    },
    {
      "cell_type": "markdown",
      "source": [
        "## **Assignment_2.3: Calculate the area and perimeter of a rectangle with length 7 and width 5.**"
      ],
      "metadata": {
        "id": "Q_YsCM6NafO_"
      }
    },
    {
      "cell_type": "code",
      "source": [
        "length = 7\n",
        "width = 5\n",
        "area = length * width\n",
        "peri = 2 * (length + width)\n",
        "\n",
        "print('Area: ', area)\n",
        "print(\"Perimeter: \", peri)"
      ],
      "metadata": {
        "colab": {
          "base_uri": "https://localhost:8080/"
        },
        "id": "jYwAiK1camIB",
        "outputId": "51f8faf7-e5a5-48a5-bee0-1064d2d2cfc2"
      },
      "execution_count": null,
      "outputs": [
        {
          "output_type": "stream",
          "name": "stdout",
          "text": [
            "Area:  35\n",
            "Perimeter:  24\n"
          ]
        }
      ]
    },
    {
      "cell_type": "markdown",
      "source": [
        "## **Assignment_2.4: Create a list of 5 Bangladeshi foods, then access the first and last elements.**"
      ],
      "metadata": {
        "id": "Mq2aq3xgbkvv"
      }
    },
    {
      "cell_type": "code",
      "source": [
        "bd_foods = ['Biryani', 'Khichuri', 'Polao', 'Ruti', 'Mutton Curry']\n",
        "print('The first elements: ', bd_foods[0])\n",
        "print('The last elements: ', bd_foods[-1])"
      ],
      "metadata": {
        "colab": {
          "base_uri": "https://localhost:8080/"
        },
        "id": "qwlcpXjabhT_",
        "outputId": "ab119b41-f9b5-4221-bad0-bcd370b63a19"
      },
      "execution_count": null,
      "outputs": [
        {
          "output_type": "stream",
          "name": "stdout",
          "text": [
            "The first elements:  Biryani\n",
            "The last elements:  Mutton Curry\n"
          ]
        }
      ]
    },
    {
      "cell_type": "markdown",
      "source": [
        "## **Assignment_2.5: Create a list of 5 numbers, add a new number, remove one, and then sort the list.**"
      ],
      "metadata": {
        "id": "ElRwAFUknuJg"
      }
    },
    {
      "cell_type": "code",
      "source": [
        "# Creating List\n",
        "my_list = [1, 2, 3, 4, 5]\n",
        "\n",
        "#Add a new Number at End\n",
        "my_list.append(6)\n",
        "print('Add a new Number at End: ', my_list)\n",
        "\n",
        "#Add a new number at Specific Position\n",
        "my_list.insert(4, 12)\n",
        "print('Add a new number at Index - 4 Position: ', my_list)\n",
        "\n",
        "#Removed Number from last position\n",
        "my_list.pop()\n",
        "print('Removed Number from last position: ', my_list)\n",
        "\n",
        "#Removed Number from Specific position\n",
        "my_list.remove(12)\n",
        "print('Removed Number from Specific position: ', my_list)\n",
        "\n",
        "#Sort the List\n",
        "my_list.sort(reverse = True)\n",
        "print('Sort Reverse order: ', my_list)"
      ],
      "metadata": {
        "colab": {
          "base_uri": "https://localhost:8080/"
        },
        "id": "B-99b9yUn548",
        "outputId": "49eb8e09-540a-4b2d-f06d-2ca0ec6a3b1e"
      },
      "execution_count": null,
      "outputs": [
        {
          "output_type": "stream",
          "name": "stdout",
          "text": [
            "Add a new Number at End:  [1, 2, 3, 4, 5, 6]\n",
            "Add a new number at Index - 4 Position:  [1, 2, 3, 4, 12, 5, 6]\n",
            "Removed Number from last position:  [1, 2, 3, 4, 12, 5]\n",
            "Removed Number from Specific position:  [1, 2, 3, 4, 5]\n",
            "Sort Reverse order:  [5, 4, 3, 2, 1]\n"
          ]
        }
      ]
    },
    {
      "cell_type": "markdown",
      "source": [
        "## **Assignment_2.6: Create a dictionary about yourself with at least 4 key-value pairs.**"
      ],
      "metadata": {
        "id": "tTZERtqkw7lD"
      }
    },
    {
      "cell_type": "code",
      "source": [
        "# Dictionary about myself\n",
        "my_dict = {\n",
        "    \"first\": \"Mithun\",\n",
        "    \"last\": \"Mondol\",\n",
        "    \"profession\": \"Engineer\",\n",
        "    \"employment\": \"Private Service\",\n",
        "    \"position\": \"Senior Engineer\"\n",
        "}\n",
        "\n",
        "print(my_dict)\n",
        "\n",
        "# Add Items\n",
        "my_dict['age'] = 37\n",
        "my_dict[\"mail\"] = \"mithun.mondol@gmail.com\"\n",
        "\n",
        "print(my_dict)"
      ],
      "metadata": {
        "id": "ohbukShuxUYK",
        "colab": {
          "base_uri": "https://localhost:8080/"
        },
        "outputId": "0e5f2122-8d37-4c2d-a6e7-b2591f6f22f4"
      },
      "execution_count": 17,
      "outputs": [
        {
          "output_type": "stream",
          "name": "stdout",
          "text": [
            "{'first': 'Mithun', 'last': 'Mondol', 'profession': 'Engineer', 'employment': 'Private Service', 'position': 'Senior Engineer'}\n",
            "{'first': 'Mithun', 'last': 'Mondol', 'profession': 'Engineer', 'employment': 'Private Service', 'position': 'Senior Engineer', 'age': 37, 'mail': 'mithun.mondol@gmail.com'}\n"
          ]
        }
      ]
    },
    {
      "cell_type": "markdown",
      "source": [
        "## **Assignment_2.7: Create a tuple with the latitude and longitude of a famous place in Bangladesh.**"
      ],
      "metadata": {
        "id": "b2AGO5CRxG5m"
      }
    },
    {
      "cell_type": "code",
      "source": [
        "# Tuple with the latitude and longitude of a famous places in Bangladesh\n",
        "tuple_dhaka = (\"23°42′N\", \"90°22′E\")\n",
        "tuple_coxs_bazar = (\"21.5060° N\", \"91.9774° E\")\n",
        "\n",
        "print(\"Dhaka is located at \", tuple_dhaka)\n",
        "\n",
        "print(\"Cox's Bazar is located at \", tuple_coxs_bazar)"
      ],
      "metadata": {
        "id": "oB-jcp6fxVVZ",
        "colab": {
          "base_uri": "https://localhost:8080/"
        },
        "outputId": "c5985893-15b2-4297-f8d5-e2db63b87d3f"
      },
      "execution_count": 18,
      "outputs": [
        {
          "output_type": "stream",
          "name": "stdout",
          "text": [
            "Dhaka is located at  ('23°42′N', '90°22′E')\n",
            "Cox's Bazar is located at  ('21.5060° N', '91.9774° E')\n"
          ]
        }
      ]
    },
    {
      "cell_type": "markdown",
      "source": [
        "## **Assignment_2.8: Create two sets of colors and find their union and intersection.**"
      ],
      "metadata": {
        "id": "xdVDURYwxTbh"
      }
    },
    {
      "cell_type": "code",
      "source": [
        "color1 = {\"Red\", \"Pink\", \"Orange\", \"Gray\", \"White\", \"Green\"}\n",
        "color2 = {\"Yellow\", \"Purple\", \"Green\", \"Blue\", \"Brown\", \"White\"}\n",
        "\n",
        "\n",
        "# Union\n",
        "all_color = color1 | color2\n",
        "print(\"All color: \\n\", all_color)\n",
        "\n",
        "# Intersection\n",
        "comm_color = color1 & color2\n",
        "print(\"\\nCommon Color: \\n\", comm_color)"
      ],
      "metadata": {
        "id": "v9UAEnmgxjM0",
        "colab": {
          "base_uri": "https://localhost:8080/"
        },
        "outputId": "262c3344-8884-42d2-a631-8ec19d23dd3a"
      },
      "execution_count": 28,
      "outputs": [
        {
          "output_type": "stream",
          "name": "stdout",
          "text": [
            "All color: \n",
            " {'Pink', 'White', 'Orange', 'Purple', 'Gray', 'Red', 'Green', 'Yellow', 'Brown', 'Blue'}\n",
            "\n",
            "Common Color: \n",
            " {'White', 'Green'}\n"
          ]
        }
      ]
    },
    {
      "cell_type": "markdown",
      "source": [
        "## **Assignment_2.9: Write a program that checks if a number is positive, negative, or zero.**"
      ],
      "metadata": {
        "id": "LGN_p8o2xjzU"
      }
    },
    {
      "cell_type": "code",
      "source": [
        "num = int(input(\"Enter a number: \"))\n",
        "if num > 0:\n",
        "  print(\"The number is Positive\")\n",
        "elif num < 0:\n",
        "    print(\"The number is Negative\")\n",
        "elif num == 0:\n",
        "    print(\"The number is Zero\")"
      ],
      "metadata": {
        "id": "wFN1BioLxx6n",
        "colab": {
          "base_uri": "https://localhost:8080/"
        },
        "outputId": "e0fbe17e-fb1f-4a20-eea1-f8f8ed6732d5"
      },
      "execution_count": 36,
      "outputs": [
        {
          "output_type": "stream",
          "name": "stdout",
          "text": [
            "Enter a number: 0\n",
            "The number is Zero\n"
          ]
        }
      ]
    },
    {
      "cell_type": "markdown",
      "source": [
        "## **Assignment_2.10: Write a program that checks eligibility for a discount (student AND under 25, OR senior over 60).**"
      ],
      "metadata": {
        "id": "w7pTUQ9lxzg3"
      }
    },
    {
      "cell_type": "code",
      "source": [
        "is_student = input(\"Are you student? (y/n): \").lower()\n",
        "age = int(input(\"Enter your age: \"))\n",
        "\n",
        "if is_student == \"y\" and age < 25:\n",
        "  print(\"You are eligible for a discount\")\n",
        "elif (is_student == \"y\" or is_student == \"n\") and age > 60:\n",
        "  print(\"You are eligible for a discount\")\n",
        "else:\n",
        "  print(\"You are NOT eligible for a discount\")\n"
      ],
      "metadata": {
        "id": "fE0R2gaMx9ur",
        "colab": {
          "base_uri": "https://localhost:8080/"
        },
        "outputId": "4f4d78a3-133b-4e86-84b1-4009e9231755"
      },
      "execution_count": 39,
      "outputs": [
        {
          "output_type": "stream",
          "name": "stdout",
          "text": [
            "Are you student? (y/n): n\n",
            "Enter your age: 65\n",
            "You are eligible for a discount\n"
          ]
        }
      ]
    },
    {
      "cell_type": "markdown",
      "source": [
        "## **Assignment_2.11: Write a program that prints the first 10 even numbers using a for or while loop.**"
      ],
      "metadata": {
        "id": "IZfUQCqPx-Zj"
      }
    },
    {
      "cell_type": "code",
      "source": [
        "# The first 10 even numbers using a for loop\n",
        "for i in range(1, 11):\n",
        "  even = i*2\n",
        "  print(even)\n",
        "\n",
        "print(\"\\n------------------\\n\")\n",
        "\n",
        "# The first 10 even numbers using a while loop\n",
        "count = 0\n",
        "num = 10\n",
        "while count <= 10:\n",
        "  if num % 2 == 0:\n",
        "    print(num)\n",
        "    count += 1\n",
        "  num += 1"
      ],
      "metadata": {
        "id": "_U92H4-jyfOf",
        "colab": {
          "base_uri": "https://localhost:8080/"
        },
        "outputId": "6efd1523-a9f4-4701-e1eb-6c344de123eb"
      },
      "execution_count": 45,
      "outputs": [
        {
          "output_type": "stream",
          "name": "stdout",
          "text": [
            "2\n",
            "4\n",
            "6\n",
            "8\n",
            "10\n",
            "12\n",
            "14\n",
            "16\n",
            "18\n",
            "20\n",
            "\n",
            "------------------\n",
            "\n",
            "10\n",
            "12\n",
            "14\n",
            "16\n",
            "18\n",
            "20\n",
            "22\n",
            "24\n",
            "26\n",
            "28\n",
            "30\n"
          ]
        }
      ]
    },
    {
      "cell_type": "markdown",
      "source": [
        "## **Assignment_2.12: Write a program that prints a simple number pyramid pattern using nested loops.**"
      ],
      "metadata": {
        "id": "3G38PsYjy39u"
      }
    },
    {
      "cell_type": "code",
      "source": [
        "#Print a Pyramid (Method: 01)\n",
        "for i in range(1, 10):\n",
        "  if i % 2 == 0:\n",
        "    continue\n",
        "  else:\n",
        "    pyramid = '*' * i\n",
        "  print(pyramid.center(10))\n",
        "\n",
        "  #Print a Pyramid (Method: 02)\n",
        "def pyr(rows):\n",
        "  for i in range(1, rows+1):\n",
        "    # Print Spaces\n",
        "    for j in range(rows-i):\n",
        "      print(\" \", end = \"\")\n",
        "\n",
        "    # Print Star\n",
        "    for k in range(1, 2*i):\n",
        "      print(\"*\", end = \"\")\n",
        "    print()\n",
        "\n",
        "pyr(5)\n",
        "\n",
        "# Function to print full pyramid pattern\n",
        "def full_pyramid(n):\n",
        "    for i in range(1, n + 1):\n",
        "        # Print leading spaces\n",
        "        for j in range(n - i):\n",
        "            print(\" \", end=\" \")\n",
        "\n",
        "        # Print asterisks for the current row\n",
        "        for k in range(1, 2*i):\n",
        "            print(\"*\", end=\" \")\n",
        "        print()\n",
        "\n",
        "full_pyramid(5)\n"
      ],
      "metadata": {
        "colab": {
          "base_uri": "https://localhost:8080/"
        },
        "id": "wAkave6Qz-6u",
        "outputId": "63d5b289-6158-4213-9878-dc7eed5f3b8d"
      },
      "execution_count": 14,
      "outputs": [
        {
          "output_type": "stream",
          "name": "stdout",
          "text": [
            "    *     \n",
            "   ***    \n",
            "  *****   \n",
            " *******  \n",
            "********* \n",
            "    *\n",
            "   ***\n",
            "  *****\n",
            " *******\n",
            "*********\n",
            "        * \n",
            "      * * * \n",
            "    * * * * * \n",
            "  * * * * * * * \n",
            "* * * * * * * * * \n"
          ]
        }
      ]
    },
    {
      "cell_type": "markdown",
      "source": [
        "## **Assignment_2.13: Create a function that converts temperature from Celsius to Fahrenheit using the formula: F = (C × 9/5) + 32**"
      ],
      "metadata": {
        "id": "E11rUoljb6iu"
      }
    },
    {
      "cell_type": "code",
      "source": [
        "# Create a function that converts temperature from Celsius to Fahrenheit\n",
        "celsius = float(input(\"Enter temperature in Celsius: \"))\n",
        "\n",
        "# Declearing function\n",
        "def cels_fahr (celsius):\n",
        "  fahr = (celsius*9/5) + 32\n",
        "  return fahr\n",
        "\n",
        "# Calling function\n",
        "fahrenheit = cels_fahr(celsius)\n",
        "print(f\"{celsius} degree celsius = {fahrenheit} degree fahrenheit\")"
      ],
      "metadata": {
        "colab": {
          "base_uri": "https://localhost:8080/"
        },
        "id": "1v3_E6pMcBfr",
        "outputId": "77a49249-66a5-4d08-eb96-110989a61254"
      },
      "execution_count": 51,
      "outputs": [
        {
          "output_type": "stream",
          "name": "stdout",
          "text": [
            "Enter temperature in Celsius: 33.5\n",
            "33.5 degree celsius = 92.3 degree fahrenheit\n"
          ]
        }
      ]
    },
    {
      "cell_type": "markdown",
      "source": [
        "## **Assignment_2.14: Create a function with default parameters that calculates the area of a rectangle.**"
      ],
      "metadata": {
        "id": "M3MbbEr5cFZp"
      }
    },
    {
      "cell_type": "code",
      "source": [
        "# Create a function with default parameters\n",
        "def rectangle(length = 15, width = 9):\n",
        "  area = length * width\n",
        "  return area\n",
        "\n",
        "print(f\"Area of Rectangle with (length = 10 and Width = 5), A = {rectangle()} square meter\")"
      ],
      "metadata": {
        "colab": {
          "base_uri": "https://localhost:8080/"
        },
        "id": "l2dyLqw5cKQH",
        "outputId": "4a867dbb-669a-4329-ee2b-9488b244eaa8"
      },
      "execution_count": 53,
      "outputs": [
        {
          "output_type": "stream",
          "name": "stdout",
          "text": [
            "Area of Rectangle with (length = 10 and Width = 5), A = 135 square meter\n"
          ]
        }
      ]
    }
  ]
}