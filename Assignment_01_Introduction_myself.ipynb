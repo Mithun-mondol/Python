{
  "nbformat": 4,
  "nbformat_minor": 0,
  "metadata": {
    "colab": {
      "provenance": [],
      "toc_visible": true,
      "authorship_tag": "ABX9TyOGWVW9yx5ygJ7c8PaI17Ac",
      "include_colab_link": true
    },
    "kernelspec": {
      "name": "python3",
      "display_name": "Python 3"
    },
    "language_info": {
      "name": "python"
    }
  },
  "cells": [
    {
      "cell_type": "markdown",
      "metadata": {
        "id": "view-in-github",
        "colab_type": "text"
      },
      "source": [
        "<a href=\"https://colab.research.google.com/github/Mithun-mondol/Python/blob/main/Assignment_01_Introduction_myself.ipynb\" target=\"_parent\"><img src=\"https://colab.research.google.com/assets/colab-badge.svg\" alt=\"Open In Colab\"/></a>"
      ]
    },
    {
      "cell_type": "code",
      "execution_count": null,
      "metadata": {
        "colab": {
          "base_uri": "https://localhost:8080/"
        },
        "id": "DAArhmS2REYm",
        "outputId": "57d0a91b-20f5-47f0-e78d-ceac0093090e"
      },
      "outputs": [
        {
          "output_type": "stream",
          "name": "stdout",
          "text": [
            "Welcome Mithun\n"
          ]
        }
      ],
      "source": [
        "print('Welcome Mithun')"
      ]
    },
    {
      "cell_type": "markdown",
      "source": [
        "# **Mithun**"
      ],
      "metadata": {
        "id": "AjHvtQRVSA4V"
      }
    },
    {
      "cell_type": "markdown",
      "source": [
        "## **This is Second Section**"
      ],
      "metadata": {
        "id": "MtPHcdPVScxB"
      }
    },
    {
      "cell_type": "markdown",
      "source": [
        "# New Section"
      ],
      "metadata": {
        "id": "QV5J4JaOP2xF"
      }
    },
    {
      "cell_type": "markdown",
      "source": [
        "This is Third Section"
      ],
      "metadata": {
        "id": "9sGCDTZsPrg5"
      }
    },
    {
      "cell_type": "code",
      "source": [],
      "metadata": {
        "id": "F85UUtKQPoZm"
      },
      "execution_count": null,
      "outputs": []
    }
  ]
}