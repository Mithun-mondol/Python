{
  "nbformat": 4,
  "nbformat_minor": 0,
  "metadata": {
    "colab": {
      "provenance": [],
      "include_colab_link": true
    },
    "kernelspec": {
      "name": "python3",
      "display_name": "Python 3"
    },
    "language_info": {
      "name": "python"
    }
  },
  "cells": [
    {
      "cell_type": "markdown",
      "metadata": {
        "id": "view-in-github",
        "colab_type": "text"
      },
      "source": [
        "<a href=\"https://colab.research.google.com/github/Mithun-mondol/Python/blob/main/Assignment_05_Data_Preprocessing_and_Pipeline.ipynb\" target=\"_parent\"><img src=\"https://colab.research.google.com/assets/colab-badge.svg\" alt=\"Open In Colab\"/></a>"
      ]
    },
    {
      "cell_type": "code",
      "execution_count": 29,
      "metadata": {
        "id": "kxzHrZ-S1J5-",
        "outputId": "de0a5212-9863-4f16-d898-191aa12effd6",
        "colab": {
          "base_uri": "https://localhost:8080/"
        }
      },
      "outputs": [
        {
          "output_type": "stream",
          "name": "stdout",
          "text": [
            "Drive already mounted at /content/drive; to attempt to forcibly remount, call drive.mount(\"/content/drive\", force_remount=True).\n",
            "Number of houses: 545\n",
            "\n",
            "Basic information of housing dataset:\n",
            "\n",
            "Dataset Shape:  (545, 13)\n",
            "\n",
            "Dataset first 3 houses:\n",
            "        price  area  bedrooms  bathrooms  stories mainroad guestroom basement  \\\n",
            "0  13300000  7420         4          2        3      yes        no       no   \n",
            "1  12250000  8960         4          4        4      yes        no       no   \n",
            "2  12250000  9960         3          2        2      yes        no      yes   \n",
            "\n",
            "  hotwaterheating airconditioning  parking prefarea furnishingstatus  \n",
            "0              no             yes        2      yes        furnished  \n",
            "1              no             yes        3       no        furnished  \n",
            "2              no              no        2      yes   semi-furnished  \n",
            "\n",
            "Dataset Description:\n",
            "                price          area    bedrooms   bathrooms     stories  \\\n",
            "count  5.450000e+02    545.000000  545.000000  545.000000  545.000000   \n",
            "mean   4.766729e+06   5150.541284    2.965138    1.286239    1.805505   \n",
            "std    1.870440e+06   2170.141023    0.738064    0.502470    0.867492   \n",
            "min    1.750000e+06   1650.000000    1.000000    1.000000    1.000000   \n",
            "25%    3.430000e+06   3600.000000    2.000000    1.000000    1.000000   \n",
            "50%    4.340000e+06   4600.000000    3.000000    1.000000    2.000000   \n",
            "75%    5.740000e+06   6360.000000    3.000000    2.000000    2.000000   \n",
            "max    1.330000e+07  16200.000000    6.000000    4.000000    4.000000   \n",
            "\n",
            "          parking  \n",
            "count  545.000000  \n",
            "mean     0.693578  \n",
            "std      0.861586  \n",
            "min      0.000000  \n",
            "25%      0.000000  \n",
            "50%      0.000000  \n",
            "75%      1.000000  \n",
            "max      3.000000  \n",
            "\n",
            "Dataset Info:\n",
            "<class 'pandas.core.frame.DataFrame'>\n",
            "RangeIndex: 545 entries, 0 to 544\n",
            "Data columns (total 13 columns):\n",
            " #   Column            Non-Null Count  Dtype \n",
            "---  ------            --------------  ----- \n",
            " 0   price             545 non-null    int64 \n",
            " 1   area              545 non-null    int64 \n",
            " 2   bedrooms          545 non-null    int64 \n",
            " 3   bathrooms         545 non-null    int64 \n",
            " 4   stories           545 non-null    int64 \n",
            " 5   mainroad          545 non-null    object\n",
            " 6   guestroom         545 non-null    object\n",
            " 7   basement          545 non-null    object\n",
            " 8   hotwaterheating   545 non-null    object\n",
            " 9   airconditioning   545 non-null    object\n",
            " 10  parking           545 non-null    int64 \n",
            " 11  prefarea          545 non-null    object\n",
            " 12  furnishingstatus  545 non-null    object\n",
            "dtypes: int64(6), object(7)\n",
            "memory usage: 55.5+ KB\n",
            "None\n",
            "\n",
            "Checking missing values in the dataset:\n",
            "price               0\n",
            "area                0\n",
            "bedrooms            0\n",
            "bathrooms           0\n",
            "stories             0\n",
            "mainroad            0\n",
            "guestroom           0\n",
            "basement            0\n",
            "hotwaterheating     0\n",
            "airconditioning     0\n",
            "parking             0\n",
            "prefarea            0\n",
            "furnishingstatus    0\n",
            "dtype: int64\n"
          ]
        }
      ],
      "source": [
        "#Load the Data\n",
        "import pandas as pd\n",
        "import numpy as np\n",
        "import matplotlib.pyplot as plt\n",
        "import seaborn as sns\n",
        "\n",
        "from sklearn.model_selection import train_test_split, cross_val_score\n",
        "from sklearn.preprocessing import StandardScaler, LabelEncoder, MinMaxScaler, OneHotEncoder\n",
        "from sklearn.linear_model import LogisticRegression, LinearRegression\n",
        "from sklearn.metrics import mean_squared_error, r2_score\n",
        "\n",
        "\n",
        "# TODO: Load the housing data\n",
        "from google.colab import drive    # import drive\n",
        "drive.mount('/content/drive')     # connect to drive\n",
        "\n",
        "import warnings\n",
        "warnings.filterwarnings('ignore') # ignore waring\n",
        "\n",
        "housing = pd.read_csv('/content/drive/MyDrive/Colab Notebooks/Data/Housing.csv')\n",
        "\n",
        "# TODO: How many houses are there?\n",
        "print(f\"Number of houses: {len(housing)}\")  # show number of rows in housing dataset\n",
        "\n",
        "# TODO: Show first 3 houses\n",
        "# Your code here\n",
        "\n",
        "# Basic information of housing dataset\n",
        "print(\"\\nBasic information of housing dataset:\\n\")\n",
        "print(\"Dataset Shape: \", housing.shape)\n",
        "print(\"\\nDataset first 3 houses:\\n \", housing.head(3))\n",
        "print(\"\\nDataset Description:\\n \", housing.describe())\n",
        "print(\"\\nDataset Info:\")\n",
        "print(housing.info())\n",
        "\n",
        "print(\"\\nChecking missing values in the dataset:\")\n",
        "print(housing.isnull().sum())"
      ]
    },
    {
      "cell_type": "code",
      "source": [
        "# Look at Columns\n",
        "# TODO: Show all column names\n",
        "print(\"Columns:\")\n",
        "# Your code here\n",
        "print(housing.columns.tolist())   # Show all column name as a list\n",
        "# TODO: Show data types of columns\n",
        "print(\"\\nData types:\")\n",
        "print(housing.dtypes)     # Show each columns data types"
      ],
      "metadata": {
        "id": "jY6xciSB1fGX",
        "colab": {
          "base_uri": "https://localhost:8080/"
        },
        "outputId": "08988e0f-b2ca-4196-d929-19122adcee88"
      },
      "execution_count": 30,
      "outputs": [
        {
          "output_type": "stream",
          "name": "stdout",
          "text": [
            "Columns:\n",
            "['price', 'area', 'bedrooms', 'bathrooms', 'stories', 'mainroad', 'guestroom', 'basement', 'hotwaterheating', 'airconditioning', 'parking', 'prefarea', 'furnishingstatus']\n",
            "\n",
            "Data types:\n",
            "price                int64\n",
            "area                 int64\n",
            "bedrooms             int64\n",
            "bathrooms            int64\n",
            "stories              int64\n",
            "mainroad            object\n",
            "guestroom           object\n",
            "basement            object\n",
            "hotwaterheating     object\n",
            "airconditioning     object\n",
            "parking              int64\n",
            "prefarea            object\n",
            "furnishingstatus    object\n",
            "dtype: object\n"
          ]
        }
      ]
    },
    {
      "cell_type": "markdown",
      "source": [
        "# Label Encoding"
      ],
      "metadata": {
        "id": "D1F81_yXiN_c"
      }
    },
    {
      "cell_type": "code",
      "source": [
        "#Convert Yes/No to 1/0\n",
        "# Check what's in our data\n",
        "print(\"Current mainroad values:\\n\", housing['mainroad'].head())\n",
        "# Shows: yes, no, yes, yes, no\n",
        "\n",
        "# Models need numbers, not text!\n",
        "# We need: yes → 1, no → 0\n",
        "\n",
        "# Creating a Label Encoder\n",
        "label_encoder = LabelEncoder()\n",
        "\n",
        "# Fit and transform the 'mainroad' column\n",
        "housing['mainroad'] = label_encoder.fit_transform(housing['mainroad'])\n",
        "\n",
        "# Fit and transform all the columns that have contains yes/no\n",
        "for column in ['mainroad', 'guestroom', 'basement', 'hotwaterheating', 'airconditioning', 'prefarea']:\n",
        "    housing[column] = label_encoder.fit_transform(housing[column])\n",
        "\n",
        "# Fit and transform all the columns that have contains yes/no through Loop\n",
        "for col in housing.columns:\n",
        "    if housing[col].dtype == 'object' and set(\n",
        "                                              housing[col]\n",
        "                                              .dropna()\n",
        "                                              .str.lower()\n",
        "                                              .unique()\n",
        "                                              ).issubset({'yes', 'no'}):\n",
        "        housing[col] = label_encoder.fit_transform(housing[col])\n",
        "\n",
        "# Fit and transform the 'furnishingstatus' column\n",
        "housing_encoded = pd.get_dummies(housing['furnishingstatus'], drop_first = False)\n",
        "\n",
        "# Concatenate the encoded 'furnishingstatus' columns with the original DataFrame\n",
        "housing = pd.concat([housing, housing_encoded], axis=1)\n",
        "\n",
        "# Drop the original 'furnishingstatus' column\n",
        "housing.drop('furnishingstatus', axis=1, inplace=True)\n",
        "\n",
        "# Check the Encoded data\n",
        "print(\"\\nEncoded mainroad values:\\n\", housing.head())\n"
      ],
      "metadata": {
        "id": "MwB1ZgVl1plX",
        "colab": {
          "base_uri": "https://localhost:8080/"
        },
        "outputId": "3625f0a4-3717-41aa-b718-f9c37f9091b4"
      },
      "execution_count": 31,
      "outputs": [
        {
          "output_type": "stream",
          "name": "stdout",
          "text": [
            "Current mainroad values:\n",
            " 0    yes\n",
            "1    yes\n",
            "2    yes\n",
            "3    yes\n",
            "4    yes\n",
            "Name: mainroad, dtype: object\n",
            "\n",
            "Encoded mainroad values:\n",
            "       price  area  bedrooms  bathrooms  stories  mainroad  guestroom  \\\n",
            "0  13300000  7420         4          2        3         1          0   \n",
            "1  12250000  8960         4          4        4         1          0   \n",
            "2  12250000  9960         3          2        2         1          0   \n",
            "3  12215000  7500         4          2        2         1          0   \n",
            "4  11410000  7420         4          1        2         1          1   \n",
            "\n",
            "   basement  hotwaterheating  airconditioning  parking  prefarea  furnished  \\\n",
            "0         0                0                1        2         1       True   \n",
            "1         0                0                1        3         0       True   \n",
            "2         1                0                0        2         1      False   \n",
            "3         1                0                1        3         1       True   \n",
            "4         1                0                1        2         0       True   \n",
            "\n",
            "   semi-furnished  unfurnished  \n",
            "0           False        False  \n",
            "1           False        False  \n",
            "2            True        False  \n",
            "3           False        False  \n",
            "4           False        False  \n"
          ]
        }
      ]
    },
    {
      "cell_type": "markdown",
      "source": [
        "# Train Data"
      ],
      "metadata": {
        "id": "dnKiiYZrh_6y"
      }
    },
    {
      "cell_type": "code",
      "source": [
        "# Split into Train and Test\n",
        "# TODO: Split - 80% train, 20% test\n",
        "\n",
        "# Define X-Axis Data\n",
        "X = housing.drop('price', axis=1)\n",
        "\n",
        "# Define Y-Axis Data\n",
        "y = housing['price']\n",
        "\n",
        "# Train/Test split into (80/20)\n",
        "X_train, X_test, y_train, y_test = train_test_split(X, y,\n",
        "                                                    test_size=0.2,    # 20% data for test\n",
        "                                                    random_state=42   # Same data used every time\n",
        "                                                    )\n",
        "print(f\"Traning data shape: {X_train.shape}\")\n",
        "print(f\"Testing data shape: {X_test.shape}\")"
      ],
      "metadata": {
        "id": "CGWFD9Do1w2J",
        "colab": {
          "base_uri": "https://localhost:8080/"
        },
        "outputId": "98bd402f-fd4e-4bb5-89af-48e8f8c858ed"
      },
      "execution_count": 32,
      "outputs": [
        {
          "output_type": "stream",
          "name": "stdout",
          "text": [
            "Traning data shape: (436, 14)\n",
            "Testing data shape: (109, 14)\n"
          ]
        }
      ]
    },
    {
      "cell_type": "code",
      "source": [
        "#Apply StandardScaler\n",
        "# Area is huge (1650-13300), Bedrooms is small (1-6)!\n",
        "#Your Code here\n",
        "\n",
        "# Create a Scaler\n",
        "scaler = StandardScaler()\n",
        "\n",
        "# Learn from training data and scale it\n",
        "X_train_scaled = scaler.fit_transform(X_train)\n",
        "\n",
        "# Scale test data (just trandform)\n",
        "X_test_scaled = scaler.transform(X_test)\n",
        "\n",
        "# Data scaled\n",
        "#print(\"Scaled training data:\\n\", X_train_scaled[:5])\n",
        "#print(\"\\nScaled test data:\\n\", X_test_scaled[:5])"
      ],
      "metadata": {
        "id": "ORsVWo8E18y1"
      },
      "execution_count": 33,
      "outputs": []
    },
    {
      "cell_type": "code",
      "source": [
        "#train and test model\n",
        "#your code here\n",
        "\n",
        "# Create a model\n",
        "model = LogisticRegression(max_iter = 1000)\n",
        "\n",
        "# Train the model\n",
        "model.fit(X_train_scaled, y_train)\n",
        "\n",
        "# Model trained\n",
        "print(\"Model trained!\")\n",
        "\n",
        "# Check accuracy on train data\n",
        "train_score = model.score(X_train_scaled, y_train)\n",
        "print(f\"Train accuracy: {train_score:.1%}\")\n",
        "\n",
        "# Check accuracy on test data\n",
        "test_score = model.score(X_test_scaled, y_test)\n",
        "print(f\"Test accuracy: {test_score:.1%}\")\n",
        "\n",
        "# Do cross-validation of the Model\n",
        "cv_scores = cross_val_score(\n",
        "                            model,            # model\n",
        "                            X_train_scaled,   # trained data\n",
        "                            y_train,          # trained labels\n",
        "                            cv=10              # 10 mini tests\n",
        "                            )\n",
        "print(f\"Cross-validation scores: {cv_scores}\")\n",
        "for i in range(len(cv_scores)):\n",
        "    print(f\"Test {i+1}: {cv_scores[i]:.1%}\")\n",
        "\n",
        "print(f\"Mean cross-validation score: {np.mean(cv_scores):.1%}\")\n",
        "print(f\"this means our model is {cv_scores.mean():.1%} accurate!!!\")"
      ],
      "metadata": {
        "id": "khBlvU-f2QnW",
        "colab": {
          "base_uri": "https://localhost:8080/"
        },
        "outputId": "91032dae-b63c-45a3-e080-ed190bfbc74e"
      },
      "execution_count": 34,
      "outputs": [
        {
          "output_type": "stream",
          "name": "stdout",
          "text": [
            "Model trained!\n",
            "Train accuracy: 42.2%\n",
            "Test accuracy: 1.8%\n",
            "Cross-validation scores: [0.02272727 0.02272727 0.         0.02272727 0.02272727 0.04545455\n",
            " 0.04651163 0.04651163 0.         0.04651163]\n",
            "Test 1: 2.3%\n",
            "Test 2: 2.3%\n",
            "Test 3: 0.0%\n",
            "Test 4: 2.3%\n",
            "Test 5: 2.3%\n",
            "Test 6: 4.5%\n",
            "Test 7: 4.7%\n",
            "Test 8: 4.7%\n",
            "Test 9: 0.0%\n",
            "Test 10: 4.7%\n",
            "Mean cross-validation score: 2.8%\n",
            "this means our model is 2.8% accurate!!!\n"
          ]
        }
      ]
    },
    {
      "cell_type": "code",
      "source": [
        "import joblib\n",
        "# Predict a House Price\n",
        "# New house details:\n",
        "# area=5000, bedrooms=3, bathrooms=2, stories=2,\n",
        "# mainroad=yes, guestroom=no, basement=yes,\n",
        "# hotwaterheating=no, airconditioning=yes,\n",
        "# parking=2, prefarea=yes, furnishingstatus=furnished\n",
        "\n",
        "#your code here\n",
        "housing = pd.read_csv('/content/drive/MyDrive/Colab Notebooks/Data/Housing.csv')\n",
        "\n",
        "# Binary yes/no → 1/0 with a FIXED map\n",
        "yn_cols = ['mainroad', 'guestroom', 'basement', 'hotwaterheating', 'airconditioning', 'prefarea']\n",
        "for col in yn_cols:\n",
        "  housing[col] = housing[col].astype(str).str.strip().str.lower().map({'yes': 1, 'no': 0})\n",
        "\n",
        "# One-hot for furnishingstatus\n",
        "housing = pd.get_dummies(housing, columns=['furnishingstatus'], drop_first=False)\n",
        "\n",
        "# Split features/target\n",
        "x = housing.drop('price', axis=1)\n",
        "y = housing['price']\n",
        "\n",
        "X_train, X_test, y_train, y_test = train_test_split(x, y, test_size=0.2, random_state=42)\n",
        "\n",
        "# Scale numeric features\n",
        "scaler = StandardScaler()\n",
        "X_train_scaled = scaler.fit_transform(X_train)\n",
        "X_test_scaled = scaler.transform(X_test)\n",
        "\n",
        "# Train a REGRESSION model\n",
        "model = LinearRegression()\n",
        "model.fit(X_train_scaled, y_train)\n",
        "\n",
        "print(\"Train R^2: \", model.score(X_train_scaled, y_train))\n",
        "print('Test R^2: ', model.score(X_test_scaled, y_test))\n",
        "\n",
        "# Save model, scaler, and the training column order (crucial!)\n",
        "joblib.dump(model, 'housing_model.joblib')\n",
        "joblib.dump(scaler, 'scaler.joblib')\n",
        "joblib.dump(x.columns.tolist(), 'features_cols.joblib')\n",
        "\n",
        "########### ------------------ ####################\n",
        "\n",
        "# --- Load artifacts ---\n",
        "model = joblib.load('housing_model.joblib')\n",
        "scaler = joblib.load('scaler.joblib')\n",
        "features_cols = joblib.load('features_cols.joblib')\n",
        "\n",
        "# New house details:\n",
        "new_house = {\n",
        "    \"area\": 5000,\n",
        "    \"bedrooms\": 3,\n",
        "    \"bathrooms\": 2,\n",
        "    \"stories\": 2,\n",
        "    \"mainroad\": \"yes\",\n",
        "    \"guestroom\": \"no\",\n",
        "    \"basement\": \"yes\",\n",
        "    \"hotwaterheating\": \"no\",\n",
        "    \"airconditioning\": \"yes\",\n",
        "    \"parking\": 2,\n",
        "    \"prefarea\": \"yes\",\n",
        "    \"furnishingstatus\": \"furnished\",\n",
        "}\n",
        "\n",
        "# Create a dataframe with new data\n",
        "new_house = pd.DataFrame([new_house])\n",
        "\n",
        "# Scale the new data\n",
        "# Creating a Label Encoder\n",
        "label_encoder = LabelEncoder()\n",
        "\n",
        "# 1) Apply the SAME fixed yes/no mapping\n",
        "for col in yn_cols:\n",
        "  new_house[col] = new_house[col].astype(str).str.strip().str.lower().map({'yes': 1, 'no': 0})\n",
        "\n",
        "# One-hot furnishingstatus, then REINDEX to training columns\n",
        "new_house = pd.get_dummies(new_house, columns=['furnishingstatus'], drop_first=False)\n",
        "new_house = new_house.reindex(columns=features_cols, fill_value=0)\n",
        "\n",
        "# Scale with the TRAINED scaler\n",
        "new_house_scaled = scaler.transform(new_house)\n",
        "\n",
        "# Predict the price of the new house\n",
        "predicted_price = model.predict(new_house)[0]\n",
        "print(f\"Predicted price for the new house: {predicted_price:.2f}\")"
      ],
      "metadata": {
        "id": "no5CjmoK2aHb",
        "colab": {
          "base_uri": "https://localhost:8080/"
        },
        "outputId": "c60d25b7-de1d-4503-ff76-e1dca0942fb5"
      },
      "execution_count": 35,
      "outputs": [
        {
          "output_type": "stream",
          "name": "stdout",
          "text": [
            "Train R^2:  0.6859438988560158\n",
            "Test R^2:  0.6529242642153174\n",
            "Predicted price for the new house: 2605794840.16\n"
          ]
        }
      ]
    },
    {
      "cell_type": "markdown",
      "source": [
        "# **Using a single Pipeline**"
      ],
      "metadata": {
        "id": "yoYuMfdTWcjT"
      }
    },
    {
      "cell_type": "code",
      "source": [
        "import numpy as np\n",
        "import pandas as pd\n",
        "from sklearn.compose import ColumnTransformer\n",
        "from sklearn.pipeline import Pipeline\n",
        "from sklearn.preprocessing import StandardScaler, OneHotEncoder, FunctionTransformer\n",
        "from sklearn.impute import SimpleImputer\n",
        "from sklearn.linear_model import LinearRegression\n",
        "from sklearn.model_selection import train_test_split\n",
        "from sklearn.metrics import mean_absolute_error, mean_squared_error, r2_score\n",
        "import joblib\n",
        "\n",
        "# Load Dataset\n",
        "house = pd.read_csv('/content/drive/MyDrive/Colab Notebooks/Data/Housing.csv')\n",
        "\n",
        "# Split features data and label or target column\n",
        "x = house.drop(columns = 'price')\n",
        "y = house['price']\n",
        "\n",
        "# Split column data type\n",
        "binary_cols = ['mainroad', 'guestroom', 'basement', 'hotwaterheating', 'airconditioning', 'prefarea']\n",
        "categorical_cols = ['furnishingstatus']\n",
        "numeric_cols = x.columns.difference(binary_cols + categorical_cols).tolist()\n",
        "\n",
        "# Function to map yes/no → 1/0 (vectorized over DataFrame slice)\n",
        "def yes_no_array(X):\n",
        "    # Convert yes/no to 1/0 elementwise\n",
        "    X = np.char.lower(np.array(X, dtype=str))\n",
        "    return np.where(X == \"yes\", 1, np.where(X == \"no\", 0, np.nan))\n",
        "\n",
        "binary_encoder = Pipeline(steps=[\n",
        "    (\"imputer\", SimpleImputer(strategy=\"most_frequent\")),\n",
        "    (\"yesno_map\", FunctionTransformer(yes_no_array)),\n",
        "])\n",
        "\n",
        "# Create pipeline for Categorical Columns\n",
        "categorical_encoder = Pipeline(\n",
        "    steps = [\n",
        "        ('imputer', SimpleImputer(strategy = 'most_frequent')),                 # Replace missing value with most frequent value\n",
        "        ('onehot', OneHotEncoder(drop = 'first', handle_unknown = 'ignore'))    # Convert categorical data into number\n",
        "    ]\n",
        ")\n",
        "\n",
        "# Create pipeline for Numeric Columns\n",
        "numeric_encoder = Pipeline(\n",
        "    steps = [\n",
        "        ('imputer', SimpleImputer(strategy='mean')),    # Replace missing value with mean value\n",
        "        ('scaler', StandardScaler())                    # standardizes numeric columns\n",
        "    ]\n",
        ")\n",
        "\n",
        "# Preprocessing data\n",
        "preprocessor = ColumnTransformer(\n",
        "    transformers = [\n",
        "        ('binary', binary_encoder, binary_cols),\n",
        "        ('categorical', categorical_encoder, categorical_cols),\n",
        "        ('numeric', numeric_encoder, numeric_cols)\n",
        "    ],\n",
        "    remainder = 'drop'\n",
        ")\n",
        "\n",
        "# Create Model\n",
        "model = LinearRegression()\n",
        "\n",
        "pipe = Pipeline(\n",
        "    steps = [\n",
        "        ('preprocessor', preprocessor),\n",
        "        ('model', model)\n",
        "    ]\n",
        ")\n",
        "\n",
        "# Split data\n",
        "X_train, X_test, y_train, y_test = train_test_split(x, y, test_size = 0.2, random_state = 42)\n",
        "\n",
        "# Train model\n",
        "pipe.fit(X_train, y_train)\n",
        "\n",
        "# Evaluate model\n",
        "predict = pipe.predict(X_test)\n",
        "print('MAE: ', mean_absolute_error(y_test, predict))\n",
        "print('MSE: ', mean_squared_error(y_test, predict))\n",
        "print('R^2: ', r2_score(y_test, predict))\n",
        "print(\"Train R^2: \", pipe.score(X_train, y_train))\n",
        "print('Test R^2: ', pipe.score(X_test, y_test))\n",
        "\n",
        "\n",
        "# Save model\n",
        "joblib.dump(pipe, 'house_model.pkl')\n",
        "\n",
        "new_house = {\n",
        "    \"area\": 5000, \"bedrooms\": 3, \"bathrooms\": 2, \"stories\": 2,\n",
        "    \"mainroad\": \"yes\", \"guestroom\": \"no\", \"basement\": \"yes\",\n",
        "    \"hotwaterheating\": \"no\", \"airconditioning\": \"yes\",\n",
        "    \"parking\": 2, \"prefarea\": \"yes\", \"furnishingstatus\": \"furnished\",\n",
        "}\n",
        "\n",
        "new_house = pd.DataFrame([new_house])\n",
        "pipe = joblib.load('house_model.pkl')\n",
        "predicted_price = pipe.predict(new_house)[0]\n",
        "print(f\"\\nPredicted price for the new house: {predicted_price:.2f}\")"
      ],
      "metadata": {
        "id": "qi9oBE9pU_zw",
        "colab": {
          "base_uri": "https://localhost:8080/"
        },
        "outputId": "1de6da2a-2811-416b-ed71-97373a84ec80"
      },
      "execution_count": 36,
      "outputs": [
        {
          "output_type": "stream",
          "name": "stdout",
          "text": [
            "MAE:  970043.4039201641\n",
            "MSE:  1754318687330.6667\n",
            "R^2:  0.6529242642153178\n",
            "Train R^2:  0.6859438988560158\n",
            "Test R^2:  0.6529242642153178\n",
            "\n",
            "Predicted price for the new house: 7303227.50\n"
          ]
        }
      ]
    }
  ]
}